{
  "nbformat": 4,
  "nbformat_minor": 0,
  "metadata": {
    "colab": {
      "provenance": [],
      "gpuType": "T4",
      "collapsed_sections": [
        "sQ8k0M1eNJIJ",
        "KaL9vHNql8Eu",
        "Nu-PLnhbqSbW",
        "cx1_xljNra-q",
        "gCjzUvDJsyxk",
        "oNumw3hls7N4",
        "A9GF3Tn604yk",
        "4sKzxzzymk1K",
        "rZMlfJWoy5yy",
        "wEmhXneA1_wG",
        "MmdKXY7gCgn1",
        "bhwMuKfqItAs",
        "B0D8YjNLNv5i",
        "5D2wFOmpEXtw",
        "06Gr9yBHzimQ",
        "LlM-nWHBnLSq",
        "LRM1VLdRnQkJ",
        "XqtNkl2lnSs7",
        "g8omY82-nX1y",
        "sWmV10kkndpu",
        "8inXJT7aSlE0",
        "3U5UIkfpmmsa",
        "Wozsm-l3ntMQ",
        "6kBkX5jKOFsG",
        "_bX1p2nUE_MK",
        "cAyjgeTDZoZo"
      ],
      "authorship_tag": "ABX9TyOAmSgRq3vxnMUxKDfpQywQ",
      "include_colab_link": true
    },
    "kernelspec": {
      "name": "python3",
      "display_name": "Python 3"
    },
    "language_info": {
      "name": "python"
    }
  },
  "cells": [
    {
      "cell_type": "markdown",
      "metadata": {
        "id": "view-in-github",
        "colab_type": "text"
      },
      "source": [
        "<a href=\"https://colab.research.google.com/github/Monsterglitch/ML-NN-Collab/blob/main/Tensorflow%26Pytorch.ipynb\" target=\"_parent\"><img src=\"https://colab.research.google.com/assets/colab-badge.svg\" alt=\"Open In Colab\"/></a>"
      ]
    },
    {
      "cell_type": "code",
      "source": [
        "# !nvidia-smi # use this in GPU runtime"
      ],
      "metadata": {
        "colab": {
          "base_uri": "https://localhost:8080/"
        },
        "id": "P0vPC6iEY6oX",
        "outputId": "4805950b-374e-40a8-c4b2-3541779c72a1"
      },
      "execution_count": null,
      "outputs": [
        {
          "output_type": "stream",
          "name": "stdout",
          "text": [
            "/bin/bash: nvidia-smi: command not found\n"
          ]
        }
      ]
    },
    {
      "cell_type": "markdown",
      "source": [
        "# **TENSORFLOW BASICS**"
      ],
      "metadata": {
        "id": "sQ8k0M1eNJIJ"
      }
    },
    {
      "cell_type": "code",
      "source": [
        "# Importing Tensorflow\n",
        "import tensorflow as tf\n",
        "import numpy as np\n",
        "print(tf.__version__)"
      ],
      "metadata": {
        "id": "5FG1E-TMNQKw",
        "colab": {
          "base_uri": "https://localhost:8080/"
        },
        "outputId": "9ce767e4-ba33-41de-f15d-5a211f236c29"
      },
      "execution_count": null,
      "outputs": [
        {
          "output_type": "stream",
          "name": "stdout",
          "text": [
            "2.13.0\n"
          ]
        }
      ]
    },
    {
      "cell_type": "markdown",
      "source": [
        "## Creation of TENSORS with tf.constant()"
      ],
      "metadata": {
        "id": "KaL9vHNql8Eu"
      }
    },
    {
      "cell_type": "code",
      "source": [
        "### .get_shape() works for fixed TENSORS"
      ],
      "metadata": {
        "id": "Edja57R-t74S"
      },
      "execution_count": null,
      "outputs": []
    },
    {
      "cell_type": "markdown",
      "source": [
        "### Scalar"
      ],
      "metadata": {
        "id": "Nu-PLnhbqSbW"
      }
    },
    {
      "cell_type": "code",
      "source": [
        "constant_scalar = tf.constant(7)\n",
        "constant_scalar, constant_scalar.ndim, constant_scalar.shape, constant_scalar.get_shape(), constant_scalar.dtype"
      ],
      "metadata": {
        "colab": {
          "base_uri": "https://localhost:8080/"
        },
        "id": "bX3PPNe8qcPW",
        "outputId": "b711ce74-35fd-4ca7-b4f7-ef1e5389005b"
      },
      "execution_count": null,
      "outputs": [
        {
          "output_type": "execute_result",
          "data": {
            "text/plain": [
              "(<tf.Tensor: shape=(), dtype=int32, numpy=7>,\n",
              " 0,\n",
              " TensorShape([]),\n",
              " TensorShape([]),\n",
              " tf.int32)"
            ]
          },
          "metadata": {},
          "execution_count": 34
        }
      ]
    },
    {
      "cell_type": "markdown",
      "source": [
        "### Vector"
      ],
      "metadata": {
        "id": "cx1_xljNra-q"
      }
    },
    {
      "cell_type": "code",
      "source": [
        "constant_vector = tf.constant([1, 2])\n",
        "constant_vector, constant_vector.ndim, constant_vector.shape, constant_vector.get_shape(), constant_vector.dtype"
      ],
      "metadata": {
        "colab": {
          "base_uri": "https://localhost:8080/"
        },
        "id": "5z1MNQAQraJ3",
        "outputId": "048d2a5a-b3e2-46ba-86fb-0fafa9856dec"
      },
      "execution_count": null,
      "outputs": [
        {
          "output_type": "execute_result",
          "data": {
            "text/plain": [
              "(<tf.Tensor: shape=(2,), dtype=int32, numpy=array([1, 2], dtype=int32)>,\n",
              " 1,\n",
              " TensorShape([2]),\n",
              " TensorShape([2]),\n",
              " tf.int32)"
            ]
          },
          "metadata": {},
          "execution_count": 35
        }
      ]
    },
    {
      "cell_type": "markdown",
      "source": [
        "### MATRIX"
      ],
      "metadata": {
        "id": "gCjzUvDJsyxk"
      }
    },
    {
      "cell_type": "code",
      "source": [
        "constant_MATRIX = tf.constant([[1., 2.],\n",
        "                               [3., 4.]], dtype = \"float16\")\n",
        "constant_MATRIX, constant_MATRIX.ndim, constant_MATRIX.shape, constant_MATRIX.get_shape(), constant_MATRIX.dtype"
      ],
      "metadata": {
        "colab": {
          "base_uri": "https://localhost:8080/"
        },
        "id": "KwWPICUBrwUx",
        "outputId": "b0910279-6e3d-4a33-9d23-ee9f796f8559"
      },
      "execution_count": null,
      "outputs": [
        {
          "output_type": "execute_result",
          "data": {
            "text/plain": [
              "(<tf.Tensor: shape=(2, 2), dtype=float16, numpy=\n",
              " array([[1., 2.],\n",
              "        [3., 4.]], dtype=float16)>,\n",
              " 2,\n",
              " TensorShape([2, 2]),\n",
              " TensorShape([2, 2]),\n",
              " tf.float16)"
            ]
          },
          "metadata": {},
          "execution_count": 49
        }
      ]
    },
    {
      "cell_type": "markdown",
      "source": [
        "### TENSOR"
      ],
      "metadata": {
        "id": "oNumw3hls7N4"
      }
    },
    {
      "cell_type": "code",
      "source": [
        "constant_TENSOR = tf.constant(value=[1, 2, 3, 4, 5, 6,\n",
        "                                     7, 8, 9, 10, 11, 12], shape=(2, 2, 3), dtype = tf.float32) # \"shape\" argument changes the type of tensors\n",
        "constant_TENSOR, constant_TENSOR.ndim, constant_TENSOR.shape, constant_TENSOR.get_shape(), constant_TENSOR.dtype"
      ],
      "metadata": {
        "colab": {
          "base_uri": "https://localhost:8080/"
        },
        "id": "q7DEGQ4tScdF",
        "outputId": "19b18c11-ea20-417f-f80e-653d02642dbf"
      },
      "execution_count": null,
      "outputs": [
        {
          "output_type": "execute_result",
          "data": {
            "text/plain": [
              "(<tf.Tensor: shape=(2, 2, 3), dtype=float32, numpy=\n",
              " array([[[ 1.,  2.,  3.],\n",
              "         [ 4.,  5.,  6.]],\n",
              " \n",
              "        [[ 7.,  8.,  9.],\n",
              "         [10., 11., 12.]]], dtype=float32)>,\n",
              " 3,\n",
              " TensorShape([2, 2, 3]),\n",
              " TensorShape([2, 2, 3]),\n",
              " tf.float32)"
            ]
          },
          "metadata": {},
          "execution_count": 50
        }
      ]
    },
    {
      "cell_type": "markdown",
      "source": [
        "### Trying to change the constant TENSOR'S values"
      ],
      "metadata": {
        "id": "A9GF3Tn604yk"
      }
    },
    {
      "cell_type": "code",
      "source": [
        "# constant TENSOR'S values cannot be changed"
      ],
      "metadata": {
        "id": "34sedYbq1xqq"
      },
      "execution_count": null,
      "outputs": []
    },
    {
      "cell_type": "code",
      "source": [
        "# constant_TENSOR[1, 1, 1] = 9\n",
        "# constant_TENSOR\n",
        "# Error -> 'tensorflow.python.framework.ops.EagerTensor' object does not support item assignment"
      ],
      "metadata": {
        "id": "ks-cyDWe09wQ"
      },
      "execution_count": null,
      "outputs": []
    },
    {
      "cell_type": "code",
      "source": [
        "# constant_TENSOR[1, 1, 1].assign(9)\n",
        "# constant_TENSOR\n",
        "# Error -> 'tensorflow.python.framework.ops.EagerTensor' object has no attribute 'assign'"
      ],
      "metadata": {
        "id": "G_TGL95f1WEz"
      },
      "execution_count": null,
      "outputs": []
    },
    {
      "cell_type": "markdown",
      "source": [
        "## Creation of TENSORS with tf.Variable()"
      ],
      "metadata": {
        "id": "4sKzxzzymk1K"
      }
    },
    {
      "cell_type": "code",
      "source": [
        "### .ndim doesn't work in variable TENSORS"
      ],
      "metadata": {
        "id": "jNM1X4lBuf8K"
      },
      "execution_count": null,
      "outputs": []
    },
    {
      "cell_type": "code",
      "source": [
        "variable_TENSOR = tf.Variable([[1, 2.2],\n",
        "                               [9, 0.8]])\n",
        "variable_TENSOR, variable_TENSOR.shape, variable_TENSOR.dtype"
      ],
      "metadata": {
        "colab": {
          "base_uri": "https://localhost:8080/"
        },
        "id": "MwXygYBBm6Xj",
        "outputId": "d5b5cf9e-d2e7-41e1-cab1-93850cc5a7d3"
      },
      "execution_count": null,
      "outputs": [
        {
          "output_type": "execute_result",
          "data": {
            "text/plain": [
              "(<tf.Variable 'Variable:0' shape=(2, 2) dtype=float32, numpy=\n",
              " array([[1. , 2.2],\n",
              "        [9. , 0.8]], dtype=float32)>,\n",
              " TensorShape([2, 2]),\n",
              " tf.float32)"
            ]
          },
          "metadata": {},
          "execution_count": 64
        }
      ]
    },
    {
      "cell_type": "markdown",
      "source": [
        "### Trying to change the variable TENSOR'S values"
      ],
      "metadata": {
        "id": "rZMlfJWoy5yy"
      }
    },
    {
      "cell_type": "code",
      "source": [
        "# variable_TENSOR[1][2] = 3.4\n",
        "# variable_TENSOR\n",
        "# Error -> 'tensorflow.python.framework.ops.EagerTensor' object does not support item assignment"
      ],
      "metadata": {
        "id": "CnrOqeBfzMfO"
      },
      "execution_count": null,
      "outputs": []
    },
    {
      "cell_type": "code",
      "source": [
        "# using .assign()\n",
        "variable_TENSOR[1, 0].assign(3.58)\n",
        "variable_TENSOR"
      ],
      "metadata": {
        "colab": {
          "base_uri": "https://localhost:8080/"
        },
        "id": "EXBjDcT5zqPc",
        "outputId": "9d681506-30f4-46ba-8f5c-fa9a773420bd"
      },
      "execution_count": null,
      "outputs": [
        {
          "output_type": "execute_result",
          "data": {
            "text/plain": [
              "<tf.Variable 'Variable:0' shape=(2, 2) dtype=float32, numpy=\n",
              "array([[1.  , 2.2 ],\n",
              "       [3.58, 0.8 ]], dtype=float32)>"
            ]
          },
          "metadata": {},
          "execution_count": 66
        }
      ]
    },
    {
      "cell_type": "markdown",
      "source": [
        "## Creation of Random *TENSOR*"
      ],
      "metadata": {
        "id": "wEmhXneA1_wG"
      }
    },
    {
      "cell_type": "markdown",
      "source": [
        "### Output random values from a normal distribution"
      ],
      "metadata": {
        "id": "MmdKXY7gCgn1"
      }
    },
    {
      "cell_type": "code",
      "source": [
        "# Reproduce this same TENSOR by setting a seed value\n",
        "random_TENSOR1 = tf.random.Generator.from_seed(2)\n",
        "random_TENSOR1 = random_TENSOR1.normal(shape = (5, 5))\n",
        "random_TENSOR1, random_TENSOR1.ndim, random_TENSOR1.shape, random_TENSOR1.get_shape(), random_TENSOR1.dtype\n",
        "# All the above functions work for random TENSORS"
      ],
      "metadata": {
        "colab": {
          "base_uri": "https://localhost:8080/"
        },
        "id": "DjrjwqeB2DUi",
        "outputId": "52ae5501-1ab3-440e-ea26-1c25678090c5"
      },
      "execution_count": null,
      "outputs": [
        {
          "output_type": "execute_result",
          "data": {
            "text/plain": [
              "(<tf.Tensor: shape=(5, 5), dtype=float32, numpy=\n",
              " array([[-0.1012345 , -0.2744976 ,  1.4204658 ,  1.2609464 , -0.43640924],\n",
              "        [-1.9633987 , -0.06452483, -1.056841  ,  1.0019137 ,  0.6735137 ],\n",
              "        [ 0.06987712, -1.4077919 ,  1.0278524 ,  0.27974114, -0.01347923],\n",
              "        [ 1.845181  ,  0.97061104, -1.0242516 , -0.6544423 , -0.29738766],\n",
              "        [-1.3240396 ,  0.28785667, -0.8757901 , -0.08857018,  0.69211644]],\n",
              "       dtype=float32)>,\n",
              " 2,\n",
              " TensorShape([5, 5]),\n",
              " TensorShape([5, 5]),\n",
              " tf.float32)"
            ]
          },
          "metadata": {},
          "execution_count": 147
        }
      ]
    },
    {
      "cell_type": "markdown",
      "source": [
        "## Shuffle a TENSOR"
      ],
      "metadata": {
        "id": "bhwMuKfqItAs"
      }
    },
    {
      "cell_type": "markdown",
      "source": [
        "[Know about global & operation-level seeds](https://www.tensorflow.org/api_docs/python/tf/random/set_seed)"
      ],
      "metadata": {
        "id": "rOCMvLVgMQte"
      }
    },
    {
      "cell_type": "code",
      "source": [
        "TENSOR_to_be_Shuffled1 = tf.constant([[1, 2],\n",
        "                                      [3, 4],\n",
        "                                      [5, 6]])\n",
        "tf.random.set_seed(8) # (global seed) After setting the seed the shuffle is the same on all runs\n",
        "TENSOR_Shuffled1 = tf.random.shuffle(TENSOR_to_be_Shuffled1, seed = 8) # (operation-level seed) Argument seed alone is not sufficient\n",
        "TENSOR_Shuffled1"
      ],
      "metadata": {
        "colab": {
          "base_uri": "https://localhost:8080/"
        },
        "id": "JIO7RBqYIw-n",
        "outputId": "ab5edbb2-5f77-48b4-92d6-baec21c3a101"
      },
      "execution_count": null,
      "outputs": [
        {
          "output_type": "execute_result",
          "data": {
            "text/plain": [
              "<tf.Tensor: shape=(3, 2), dtype=int32, numpy=\n",
              "array([[5, 6],\n",
              "       [3, 4],\n",
              "       [1, 2]], dtype=int32)>"
            ]
          },
          "metadata": {},
          "execution_count": 143
        }
      ]
    },
    {
      "cell_type": "markdown",
      "source": [
        "## Creation of TENSORS from NumPY Arrays"
      ],
      "metadata": {
        "id": "B0D8YjNLNv5i"
      }
    },
    {
      "cell_type": "code",
      "source": [
        "TENSOR_from_NumPY = tf.Variable(np.array([[89, 11],\n",
        "                                          [13, 4]]), dtype = np.int64)\n",
        "TENSOR_from_NumPY, TENSOR_from_NumPY.shape, TENSOR_from_NumPY.get_shape(), TENSOR_from_NumPY.dtype"
      ],
      "metadata": {
        "colab": {
          "base_uri": "https://localhost:8080/"
        },
        "id": "SoaHAW1DNvSM",
        "outputId": "e1206bb0-c41c-42df-d2d6-7290084a4bfc"
      },
      "execution_count": null,
      "outputs": [
        {
          "output_type": "execute_result",
          "data": {
            "text/plain": [
              "(<tf.Variable 'Variable:0' shape=(2, 2) dtype=int64, numpy=\n",
              " array([[89, 11],\n",
              "        [13,  4]])>,\n",
              " TensorShape([2, 2]),\n",
              " TensorShape([2, 2]),\n",
              " tf.int64)"
            ]
          },
          "metadata": {},
          "execution_count": 149
        }
      ]
    },
    {
      "cell_type": "markdown",
      "source": [
        "## Reshape a TENSOR"
      ],
      "metadata": {
        "id": "5D2wFOmpEXtw"
      }
    },
    {
      "cell_type": "code",
      "source": [
        "reshape_TENSOR1 = tf.Variable([7., 8., 2., 1., 0., 5.]) # Shape argument in tf.Variable doesn't change the shape of the  initial value given\n",
        "reshape_TENSOR1 = tf.reshape(reshape_TENSOR1, shape = (2, 3)) # Use tf.reshape() instead\n",
        "# --- ALTERNATE WAY ---\n",
        "reshape_TENSOR2 = tf.Variable(np.array(range(0, 6)).reshape((2, 3)), shape = (2, 3), dtype = tf.float16)\n",
        "reshape_TENSOR1, reshape_TENSOR2"
      ],
      "metadata": {
        "colab": {
          "base_uri": "https://localhost:8080/"
        },
        "id": "62ZU8HNjEaqP",
        "outputId": "3c010832-f4db-43f6-f577-42b7e34e033e"
      },
      "execution_count": null,
      "outputs": [
        {
          "output_type": "execute_result",
          "data": {
            "text/plain": [
              "(<tf.Tensor: shape=(2, 3), dtype=float32, numpy=\n",
              " array([[7., 8., 2.],\n",
              "        [1., 0., 5.]], dtype=float32)>,\n",
              " <tf.Variable 'Variable:0' shape=(2, 3) dtype=float16, numpy=\n",
              " array([[0., 1., 2.],\n",
              "        [3., 4., 5.]], dtype=float16)>)"
            ]
          },
          "metadata": {},
          "execution_count": 132
        }
      ]
    },
    {
      "cell_type": "markdown",
      "source": [
        "# **TENSORFLOW Sample Work Flow**"
      ],
      "metadata": {
        "id": "06Gr9yBHzimQ"
      }
    },
    {
      "cell_type": "code",
      "execution_count": null,
      "metadata": {
        "colab": {
          "base_uri": "https://localhost:8080/"
        },
        "id": "8ic9uuCvEQGo",
        "outputId": "fa94a228-6d8f-4121-e1e5-9f0bf1dea715"
      },
      "outputs": [
        {
          "output_type": "stream",
          "name": "stdout",
          "text": [
            "Downloading data from https://storage.googleapis.com/tensorflow/tf-keras-datasets/mnist.npz\n",
            "11490434/11490434 [==============================] - 2s 0us/step\n",
            "Epoch 1/5\n",
            "1875/1875 [==============================] - 13s 3ms/step - loss: 0.2982 - accuracy: 0.9154\n",
            "Epoch 2/5\n",
            "1875/1875 [==============================] - 6s 3ms/step - loss: 0.1464 - accuracy: 0.9568\n",
            "Epoch 3/5\n",
            "1875/1875 [==============================] - 7s 4ms/step - loss: 0.1073 - accuracy: 0.9670\n",
            "Epoch 4/5\n",
            "1875/1875 [==============================] - 9s 5ms/step - loss: 0.0870 - accuracy: 0.9732\n",
            "Epoch 5/5\n",
            "1875/1875 [==============================] - 5s 3ms/step - loss: 0.0742 - accuracy: 0.9769\n",
            "313/313 [==============================] - 1s 2ms/step - loss: 0.0717 - accuracy: 0.9778\n"
          ]
        },
        {
          "output_type": "execute_result",
          "data": {
            "text/plain": [
              "[0.07168933749198914, 0.9778000116348267]"
            ]
          },
          "metadata": {},
          "execution_count": 1
        }
      ],
      "source": [
        "# Beginner Starter Code\n",
        "import tensorflow as tf\n",
        "mnist = tf.keras.datasets.mnist\n",
        "\n",
        "(x_train, y_train),(x_test, y_test) = mnist.load_data()\n",
        "x_train, x_test = x_train / 255.0, x_test / 255.0\n",
        "\n",
        "model = tf.keras.models.Sequential([\n",
        "  tf.keras.layers.Flatten(input_shape=(28, 28)),\n",
        "  tf.keras.layers.Dense(128, activation='relu'),\n",
        "  tf.keras.layers.Dropout(0.2),\n",
        "  tf.keras.layers.Dense(10, activation='softmax')\n",
        "])\n",
        "\n",
        "model.compile(optimizer='adam',\n",
        "              loss='sparse_categorical_crossentropy',\n",
        "              metrics=['accuracy'])\n",
        "\n",
        "model.fit(x_train, y_train, epochs=5)\n",
        "model.evaluate(x_test, y_test)"
      ]
    },
    {
      "cell_type": "code",
      "source": [
        "# Generate a tensor of size [5, 3] with random values between 0 and 1\n",
        "tensor1 = tf.random.uniform([5, 3])\n",
        "print(tensor1, \"\\n\")\n",
        "# Generate a random float between 0 and 1\n",
        "random_float = tf.random.uniform(shape=([1, 2, 3]), minval=0, maxval=1)\n",
        "print(random_float, \"\\n\")\n",
        "# Generate a random integer between 0 and 9\n",
        "random_int = tf.random.uniform(shape=(), minval=0, maxval=10, dtype=tf.int32)\n",
        "print(random_int, \"\\n\")\n",
        "# Generate a random boolean value\n",
        "random_bool = tf.random.uniform(shape=(), minval=0, maxval=2, dtype=tf.int32) == 1\n",
        "print(random_bool, \"\\n\")"
      ],
      "metadata": {
        "colab": {
          "base_uri": "https://localhost:8080/"
        },
        "id": "7XtuanpUzWHF",
        "outputId": "88547cfc-273e-45a6-f2ee-886504ae1561"
      },
      "execution_count": null,
      "outputs": [
        {
          "output_type": "stream",
          "name": "stdout",
          "text": [
            "tf.Tensor(\n",
            "[[0.6545346  0.85802853 0.84777534]\n",
            " [0.31908548 0.61795485 0.69293845]\n",
            " [0.21390617 0.85044956 0.4994247 ]\n",
            " [0.88213956 0.6740403  0.9059944 ]\n",
            " [0.11097276 0.20140111 0.8460798 ]], shape=(5, 3), dtype=float32) \n",
            "\n",
            "tf.Tensor(\n",
            "[[[4.5802796e-01 6.0263765e-01 8.3097243e-01]\n",
            "  [3.4060359e-01 4.3630600e-05 8.0483401e-01]]], shape=(1, 2, 3), dtype=float32) \n",
            "\n",
            "tf.Tensor(8, shape=(), dtype=int32) \n",
            "\n",
            "tf.Tensor(True, shape=(), dtype=bool) \n",
            "\n"
          ]
        }
      ]
    },
    {
      "cell_type": "code",
      "source": [
        "# Generate a random tensor of shape (3, 3) from a normal distribution\n",
        "random_tensor = tf.random.normal(shape=(3, 3), mean=0.0, stddev=1.0)\n",
        "print(random_tensor, \"\\n\")\n",
        "# Generate a random tensor of shape (2, 2) from a uniform distribution\n",
        "random_tensor = tf.random.uniform(shape=(2, 2), minval=0, maxval=1)\n",
        "print(random_tensor, \"\\n\")"
      ],
      "metadata": {
        "colab": {
          "base_uri": "https://localhost:8080/"
        },
        "id": "ZX_cK7eA1fRa",
        "outputId": "c829e80a-63ae-40c7-cd6f-88a6122086c1"
      },
      "execution_count": null,
      "outputs": [
        {
          "output_type": "stream",
          "name": "stdout",
          "text": [
            "tf.Tensor(\n",
            "[[-2.2095282   1.0112196   0.17237487]\n",
            " [ 0.87286896 -0.9127773  -0.21118803]\n",
            " [ 0.6596108  -0.3018419   2.0745454 ]], shape=(3, 3), dtype=float32) \n",
            "\n",
            "tf.Tensor(\n",
            "[[0.55669236 0.3356161 ]\n",
            " [0.74592817 0.88962877]], shape=(2, 2), dtype=float32) \n",
            "\n"
          ]
        }
      ]
    },
    {
      "cell_type": "markdown",
      "source": [
        "# **PYTORCH BASICS**"
      ],
      "metadata": {
        "id": "QLXkfmYVzckT"
      }
    },
    {
      "cell_type": "code",
      "source": [
        "!pip install torch torchvision"
      ],
      "metadata": {
        "colab": {
          "base_uri": "https://localhost:8080/"
        },
        "id": "lt8JDmLqESaC",
        "outputId": "d9cefbcf-66ae-40f2-d063-1f1652ba1fa7"
      },
      "execution_count": null,
      "outputs": [
        {
          "output_type": "stream",
          "name": "stdout",
          "text": [
            "Requirement already satisfied: torch in /usr/local/lib/python3.10/dist-packages (2.0.1+cu118)\n",
            "Requirement already satisfied: torchvision in /usr/local/lib/python3.10/dist-packages (0.15.2+cu118)\n",
            "Requirement already satisfied: filelock in /usr/local/lib/python3.10/dist-packages (from torch) (3.12.2)\n",
            "Requirement already satisfied: typing-extensions in /usr/local/lib/python3.10/dist-packages (from torch) (4.5.0)\n",
            "Requirement already satisfied: sympy in /usr/local/lib/python3.10/dist-packages (from torch) (1.12)\n",
            "Requirement already satisfied: networkx in /usr/local/lib/python3.10/dist-packages (from torch) (3.1)\n",
            "Requirement already satisfied: jinja2 in /usr/local/lib/python3.10/dist-packages (from torch) (3.1.2)\n",
            "Requirement already satisfied: triton==2.0.0 in /usr/local/lib/python3.10/dist-packages (from torch) (2.0.0)\n",
            "Requirement already satisfied: cmake in /usr/local/lib/python3.10/dist-packages (from triton==2.0.0->torch) (3.27.4.1)\n",
            "Requirement already satisfied: lit in /usr/local/lib/python3.10/dist-packages (from triton==2.0.0->torch) (16.0.6)\n",
            "Requirement already satisfied: numpy in /usr/local/lib/python3.10/dist-packages (from torchvision) (1.23.5)\n",
            "Requirement already satisfied: requests in /usr/local/lib/python3.10/dist-packages (from torchvision) (2.31.0)\n",
            "Requirement already satisfied: pillow!=8.3.*,>=5.3.0 in /usr/local/lib/python3.10/dist-packages (from torchvision) (9.4.0)\n",
            "Requirement already satisfied: MarkupSafe>=2.0 in /usr/local/lib/python3.10/dist-packages (from jinja2->torch) (2.1.3)\n",
            "Requirement already satisfied: charset-normalizer<4,>=2 in /usr/local/lib/python3.10/dist-packages (from requests->torchvision) (3.2.0)\n",
            "Requirement already satisfied: idna<4,>=2.5 in /usr/local/lib/python3.10/dist-packages (from requests->torchvision) (3.4)\n",
            "Requirement already satisfied: urllib3<3,>=1.21.1 in /usr/local/lib/python3.10/dist-packages (from requests->torchvision) (2.0.4)\n",
            "Requirement already satisfied: certifi>=2017.4.17 in /usr/local/lib/python3.10/dist-packages (from requests->torchvision) (2023.7.22)\n",
            "Requirement already satisfied: mpmath>=0.19 in /usr/local/lib/python3.10/dist-packages (from sympy->torch) (1.3.0)\n"
          ]
        }
      ]
    },
    {
      "cell_type": "code",
      "source": [
        "import torch\n",
        "import torchvision\n",
        "torch.__version__"
      ],
      "metadata": {
        "colab": {
          "base_uri": "https://localhost:8080/",
          "height": 36
        },
        "id": "DuUB2nOFzGoc",
        "outputId": "d6d33b55-058a-4952-fab9-7ae33cb8bd08"
      },
      "execution_count": null,
      "outputs": [
        {
          "output_type": "execute_result",
          "data": {
            "text/plain": [
              "'2.0.1+cu118'"
            ],
            "application/vnd.google.colaboratory.intrinsic+json": {
              "type": "string"
            }
          },
          "metadata": {},
          "execution_count": 2
        }
      ]
    },
    {
      "cell_type": "markdown",
      "source": [
        "##  Single Dimension Tensor / Scalar"
      ],
      "metadata": {
        "id": "LlM-nWHBnLSq"
      }
    },
    {
      "cell_type": "code",
      "source": [
        "scalar = torch.tensor(5)\n",
        "# scalar.item() # gives the value\n",
        "# scalar.dtype # gives the datatype of the element within the tensor / scalar\n",
        "scalar.shape, scalar.dtype, scalar.ndim # Only works with one-element tensor / scalar - getting the python number within the tensor"
      ],
      "metadata": {
        "colab": {
          "base_uri": "https://localhost:8080/"
        },
        "id": "w59vkju9MxlC",
        "outputId": "a4a12c04-6943-4376-f8f5-e3b925ce2559"
      },
      "execution_count": null,
      "outputs": [
        {
          "output_type": "execute_result",
          "data": {
            "text/plain": [
              "(torch.Size([]), torch.int64, 0)"
            ]
          },
          "metadata": {},
          "execution_count": 3
        }
      ]
    },
    {
      "cell_type": "markdown",
      "source": [
        "## Vector"
      ],
      "metadata": {
        "id": "LRM1VLdRnQkJ"
      }
    },
    {
      "cell_type": "code",
      "source": [
        "vector = torch.tensor([10,5])\n",
        "# vector.item() #-> This isn't possible since, it isn't a scalar\n",
        "# vector.ndim #No. of square brackets == no. of dimensions of the tensor\n",
        "vector.shape, vector.dtype, vector.ndim"
      ],
      "metadata": {
        "colab": {
          "base_uri": "https://localhost:8080/"
        },
        "id": "BHkqBf7WQ_2z",
        "outputId": "68801779-b159-47b1-9dac-a850369d3aea"
      },
      "execution_count": null,
      "outputs": [
        {
          "output_type": "execute_result",
          "data": {
            "text/plain": [
              "(torch.Size([2]), torch.int64, 1)"
            ]
          },
          "metadata": {},
          "execution_count": 4
        }
      ]
    },
    {
      "cell_type": "markdown",
      "source": [
        "## MATRIX"
      ],
      "metadata": {
        "id": "XqtNkl2lnSs7"
      }
    },
    {
      "cell_type": "code",
      "source": [
        "MATRIX = torch.tensor([[7, 8],\n",
        "                       [9, 10]])\n",
        "MATRIX.shape, MATRIX.dtype, MATRIX.ndim"
      ],
      "metadata": {
        "colab": {
          "base_uri": "https://localhost:8080/"
        },
        "id": "XT2yO5abSIlj",
        "outputId": "f641b329-8531-4b4d-c294-2bbb9702c0c6"
      },
      "execution_count": null,
      "outputs": [
        {
          "output_type": "execute_result",
          "data": {
            "text/plain": [
              "(torch.Size([2, 2]), torch.int64, 2)"
            ]
          },
          "metadata": {},
          "execution_count": 11
        }
      ]
    },
    {
      "cell_type": "markdown",
      "source": [
        "## TENSOR"
      ],
      "metadata": {
        "id": "g8omY82-nX1y"
      }
    },
    {
      "cell_type": "code",
      "source": [
        "TENSOR = torch.tensor([[[1, 2, 3],\n",
        "                        [3, 6, 9],\n",
        "                        [2, 4, 5]]])\n",
        "TENSOR.shape, TENSOR.dtype, TENSOR.ndim"
      ],
      "metadata": {
        "colab": {
          "base_uri": "https://localhost:8080/"
        },
        "id": "-ZLEcN0eUDAA",
        "outputId": "b2d7f7b0-5029-492a-e695-bf7f958b13a8"
      },
      "execution_count": null,
      "outputs": [
        {
          "output_type": "execute_result",
          "data": {
            "text/plain": [
              "(torch.Size([1, 3, 3]), torch.int64, 3)"
            ]
          },
          "metadata": {},
          "execution_count": 12
        }
      ]
    },
    {
      "cell_type": "markdown",
      "source": [
        "## TENSORS using rand, zeros and ones"
      ],
      "metadata": {
        "id": "sWmV10kkndpu"
      }
    },
    {
      "cell_type": "code",
      "source": [
        "# Random\n",
        "random1 = torch.rand(size = (5, 3), dtype = torch.float32)\n",
        "random2 = torch.rand(size = (2, 5)) # alternate syntax\n",
        "# Zeros - Can be used for masking\n",
        "zeros1 = torch.zeros(5, 2)\n",
        "zeros2 = torch.zeros(size = (3, 4))\n",
        "# Ones\n",
        "ones1 = torch.ones(3, 4)\n",
        "ones2 = torch.ones(size = (3, 4))\n",
        "random1.shape, random1.dtype, random1.ndim #-> (torch.Size([5, 3]), 5), zeros1, zeros1.dtype, ones1, ones1.dtype\n",
        "# random2.shape, random2.dtype, random2.ndim, zeros2, zeros2.dtype, zeros2.ndim, ones2, ones2.dtype, ones2.ndim"
      ],
      "metadata": {
        "colab": {
          "base_uri": "https://localhost:8080/"
        },
        "id": "vTMgmPNWYBJI",
        "outputId": "9d26c4c8-a315-40d6-990d-f04031fc1671"
      },
      "execution_count": null,
      "outputs": [
        {
          "output_type": "execute_result",
          "data": {
            "text/plain": [
              "(torch.Size([5, 3]), torch.float32, 2)"
            ]
          },
          "metadata": {},
          "execution_count": 7
        }
      ]
    },
    {
      "cell_type": "markdown",
      "source": [
        "### Functions & Attributes"
      ],
      "metadata": {
        "id": "8inXJT7aSlE0"
      }
    },
    {
      "cell_type": "code",
      "source": [
        "# A function has \"()\" at the end, while the attributes of a TENSOR don't have one\n",
        "op_TENSOR = torch.rand(size = (2, 2))\n",
        "print(f\"{op_TENSOR.shape}, {op_TENSOR.size()}\")"
      ],
      "metadata": {
        "id": "nBzxjGPuSSBu",
        "colab": {
          "base_uri": "https://localhost:8080/"
        },
        "outputId": "70d0f346-8d6b-4464-9aee-e6d11979c441"
      },
      "execution_count": null,
      "outputs": [
        {
          "output_type": "stream",
          "name": "stdout",
          "text": [
            "torch.Size([2, 2]), torch.Size([2, 2])\n"
          ]
        }
      ]
    },
    {
      "cell_type": "markdown",
      "source": [
        "### Changing the datatype of a TENSOR & viewing its device"
      ],
      "metadata": {
        "id": "3U5UIkfpmmsa"
      }
    },
    {
      "cell_type": "code",
      "source": [
        "changing_TENSOR = torch.rand([2, 2], dtype = torch.half)\n",
        "print(changing_TENSOR.dtype)\n",
        "changing_TENSOR = changing_TENSOR.type(torch.float)\n",
        "print(changing_TENSOR.dtype)\n",
        "# changing_TENSOR.device # \"cpu\""
      ],
      "metadata": {
        "colab": {
          "base_uri": "https://localhost:8080/"
        },
        "id": "PTCPcJSWEaHj",
        "outputId": "48cdaf73-95b2-4613-8226-3bd6129bffb6"
      },
      "execution_count": null,
      "outputs": [
        {
          "output_type": "stream",
          "name": "stdout",
          "text": [
            "torch.float16\n",
            "torch.float32\n"
          ]
        }
      ]
    },
    {
      "cell_type": "markdown",
      "source": [
        "## TENSOR manipulations using arange(), zeros_like() and ones_like()"
      ],
      "metadata": {
        "id": "Wozsm-l3ntMQ"
      }
    },
    {
      "cell_type": "code",
      "source": [
        "# torch.range() is deprecated\n",
        "# zero_to_ten_deprecated = torch.range(0, 10) # May return an error\n",
        "\n",
        "# Create a range of values 0 to 10\n",
        "zero_to_ten = torch.arange(start = 0, end = 10, step = 2)\n",
        "zero_to_ten"
      ],
      "metadata": {
        "colab": {
          "base_uri": "https://localhost:8080/"
        },
        "id": "-En7R4CfZF5N",
        "outputId": "505f6440-8944-415c-9fa0-1c012729e327"
      },
      "execution_count": null,
      "outputs": [
        {
          "output_type": "execute_result",
          "data": {
            "text/plain": [
              "tensor([0, 2, 4, 6, 8])"
            ]
          },
          "metadata": {},
          "execution_count": 8
        }
      ]
    },
    {
      "cell_type": "code",
      "source": [
        "# It can also create a tensor of zeros similar to another tensor\n",
        "five_zeros = torch.zeros_like(input = zero_to_ten) # same shape as the tensor \"zero_to_ten\"\n",
        "# It creates a tensor of ones similar to another tensor\n",
        "five_ones = torch.ones_like(input = zero_to_ten) # same shape as the tensor \"zero_to_ten\"\n",
        "five_ones, five_zeros"
      ],
      "metadata": {
        "colab": {
          "base_uri": "https://localhost:8080/"
        },
        "id": "U-IdyiSUdAgC",
        "outputId": "9839e18f-c780-4f74-e465-94d815750ab4"
      },
      "execution_count": null,
      "outputs": [
        {
          "output_type": "execute_result",
          "data": {
            "text/plain": [
              "(tensor([1, 1, 1, 1, 1]), tensor([0, 0, 0, 0, 0]))"
            ]
          },
          "metadata": {},
          "execution_count": 9
        }
      ]
    },
    {
      "cell_type": "markdown",
      "source": [
        "### Multiplying TENSORS of different datatypes"
      ],
      "metadata": {
        "id": "6kBkX5jKOFsG"
      }
    },
    {
      "cell_type": "code",
      "source": [
        "float_tensor = torch.tensor([[1, 2],\n",
        "                             [1, 2]], dtype = torch.float)\n",
        "long_tensor = torch.tensor([[2, 2],\n",
        "                            [2, 2]], dtype = torch.long)\n",
        "float_tensor * long_tensor"
      ],
      "metadata": {
        "colab": {
          "base_uri": "https://localhost:8080/"
        },
        "id": "EBzT8lhfNhfU",
        "outputId": "49185fad-7360-40bf-c5f3-31e5a467fc45"
      },
      "execution_count": null,
      "outputs": [
        {
          "output_type": "execute_result",
          "data": {
            "text/plain": [
              "tensor([[2., 4.],\n",
              "        [2., 4.]])"
            ]
          },
          "metadata": {},
          "execution_count": 45
        }
      ]
    },
    {
      "cell_type": "markdown",
      "source": [
        "## Manipulating TENSORS (Addition, Subtraction, Multiplication, Division)"
      ],
      "metadata": {
        "id": "_bX1p2nUE_MK"
      }
    },
    {
      "cell_type": "code",
      "source": [
        "manipulated_TENSOR1 = torch.tensor([10, 20, 30])\n",
        "print(f\"Manipulations using Normal Symbols: \\n{manipulated_TENSOR1 + 20}, {manipulated_TENSOR1 - 5}, {manipulated_TENSOR1 * 2}, {manipulated_TENSOR1 / 5}\")\n",
        "print(f\"Manipulations using Built-in Functions: \\n{torch.add(manipulated_TENSOR1, 20)}, {torch.sub(manipulated_TENSOR1, 5)}, {torch.mul(manipulated_TENSOR1, 2)}, {torch.div(manipulated_TENSOR1, 5)}\")"
      ],
      "metadata": {
        "id": "4XAjaszuFABM",
        "colab": {
          "base_uri": "https://localhost:8080/"
        },
        "outputId": "d06b5bba-c62f-4fbe-e8c3-f67a9d74511a"
      },
      "execution_count": null,
      "outputs": [
        {
          "output_type": "stream",
          "name": "stdout",
          "text": [
            "Manipulations using Normal Symbols: \n",
            "tensor([30, 40, 50]), tensor([ 5, 15, 25]), tensor([20, 40, 60]), tensor([2., 4., 6.])\n",
            "Manipulations using Built-in Functions: \n",
            "tensor([30, 40, 50]), tensor([ 5, 15, 25]), tensor([20, 40, 60]), tensor([2., 4., 6.])\n"
          ]
        }
      ]
    },
    {
      "cell_type": "markdown",
      "source": [
        "## MATRIX Multiplication"
      ],
      "metadata": {
        "id": "cAyjgeTDZoZo"
      }
    },
    {
      "cell_type": "code",
      "source": [
        "TENSOR1_matmul = torch.tensor([[2, 2],\n",
        "                               [2, 2]])\n",
        "TENSOR2_matmul = torch.tensor([[1],\n",
        "                               [1]])\n",
        "torch.matmul(TENSOR1_matmul, TENSOR2_matmul) # shape - ([2, 1])"
      ],
      "metadata": {
        "colab": {
          "base_uri": "https://localhost:8080/"
        },
        "id": "6JRPQAFEZtae",
        "outputId": "61807279-e669-469e-9653-fc66d8acc1f7"
      },
      "execution_count": null,
      "outputs": [
        {
          "output_type": "execute_result",
          "data": {
            "text/plain": [
              "tensor([[4],\n",
              "        [4]])"
            ]
          },
          "metadata": {},
          "execution_count": 46
        }
      ]
    }
  ]
}