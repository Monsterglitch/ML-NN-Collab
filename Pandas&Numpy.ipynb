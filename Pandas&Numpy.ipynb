{
  "nbformat": 4,
  "nbformat_minor": 0,
  "metadata": {
    "colab": {
      "provenance": [],
      "collapsed_sections": [
        "eSSF58JPFkvp",
        "eP40qMI-FY5O",
        "FQaOzyXdQUCX",
        "jyN5izNXlHUp"
      ],
      "authorship_tag": "ABX9TyP/Afgzi7LjieQZBrsh7KkF",
      "include_colab_link": true
    },
    "kernelspec": {
      "name": "python3",
      "display_name": "Python 3"
    },
    "language_info": {
      "name": "python"
    }
  },
  "cells": [
    {
      "cell_type": "markdown",
      "metadata": {
        "id": "view-in-github",
        "colab_type": "text"
      },
      "source": [
        "<a href=\"https://colab.research.google.com/github/Monsterglitch/ML-NN-Collab/blob/main/Pandas%26Numpy.ipynb\" target=\"_parent\"><img src=\"https://colab.research.google.com/assets/colab-badge.svg\" alt=\"Open In Colab\"/></a>"
      ]
    },
    {
      "cell_type": "code",
      "execution_count": null,
      "metadata": {
        "id": "SYUxhzMbYOp3"
      },
      "outputs": [],
      "source": [
        "# Importing libraries\n",
        "import numpy as np\n",
        "import pandas as pd\n",
        "import matplotlib.pyplot as plt"
      ]
    },
    {
      "cell_type": "markdown",
      "source": [
        "# PYTHON LIST & NUMPY ARRAYS\n"
      ],
      "metadata": {
        "id": "eSSF58JPFkvp"
      }
    },
    {
      "cell_type": "code",
      "source": [
        "List = [1, 2, 3, 4, 5]\n",
        "NumpyList = np.array([1, 2, 3, 4, 5, 6])\n",
        "# Loop through and print\n",
        "for i in NumpyList:\n",
        "  print(i)"
      ],
      "metadata": {
        "id": "Q0QfXURvcpnI",
        "colab": {
          "base_uri": "https://localhost:8080/"
        },
        "outputId": "2539ec26-fdb0-4990-f004-bb28191072d2"
      },
      "execution_count": null,
      "outputs": [
        {
          "output_type": "stream",
          "name": "stdout",
          "text": [
            "1\n",
            "2\n",
            "3\n",
            "4\n",
            "5\n",
            "6\n"
          ]
        }
      ]
    },
    {
      "cell_type": "code",
      "source": [
        "# Python List and Numpy Array on sizes\n",
        "# List + [5] -> Adds element 5 to the end of the list\n",
        "# List.append(67) -> Element is added using the built-in function for Python Lists\n",
        "print(List)\n",
        "# List.pop() -> removes the last element from the list"
      ],
      "metadata": {
        "colab": {
          "base_uri": "https://localhost:8080/"
        },
        "id": "CZmZCrpI9WRJ",
        "outputId": "89c4db5d-4d63-40d3-8c50-1af2e114af38"
      },
      "execution_count": null,
      "outputs": [
        {
          "output_type": "stream",
          "name": "stdout",
          "text": [
            "[1, 2, 3, 4, 5]\n"
          ]
        }
      ]
    },
    {
      "cell_type": "code",
      "source": [
        "# In Numpy arrays elements cannot be appended because array sizes are set\n",
        "NumpyList + np.array([1, 1, 1, 1, 1 ,1]) # As you can see, broadcasting takes place, but the formula looks to be the same as adding a number.\n",
        "# Broadcasting -> Adding the element to each existing element in the array; keep in mind that the vectors / arrays added should all have the same size."
      ],
      "metadata": {
        "colab": {
          "base_uri": "https://localhost:8080/"
        },
        "id": "nY-XKxtCAa4R",
        "outputId": "db996880-cfee-4d0f-de52-430d4881eca8"
      },
      "execution_count": null,
      "outputs": [
        {
          "output_type": "execute_result",
          "data": {
            "text/plain": [
              "array([2, 3, 4, 5, 6, 7])"
            ]
          },
          "metadata": {},
          "execution_count": 13
        }
      ]
    },
    {
      "cell_type": "code",
      "source": [
        "2 * NumpyList # multiplies every element in the vector / array with 2 (element wise multiplication)\n",
        "NumpyList ** 2 # squaring each element present in the array"
      ],
      "metadata": {
        "colab": {
          "base_uri": "https://localhost:8080/"
        },
        "id": "KRP75x-IAb-1",
        "outputId": "d718078e-142d-4078-ba5e-0e2e8944ad9a"
      },
      "execution_count": null,
      "outputs": [
        {
          "output_type": "execute_result",
          "data": {
            "text/plain": [
              "array([ 1,  4,  9, 16, 25, 36])"
            ]
          },
          "metadata": {},
          "execution_count": 5
        }
      ]
    },
    {
      "cell_type": "code",
      "source": [
        "2 * List # / List + List -> In Python this repeats the list items based on the number provided"
      ],
      "metadata": {
        "colab": {
          "base_uri": "https://localhost:8080/"
        },
        "id": "rrS7ZN60AovT",
        "outputId": "6d8fb031-eed9-4dba-ed68-e054c56e5880"
      },
      "execution_count": null,
      "outputs": [
        {
          "output_type": "execute_result",
          "data": {
            "text/plain": [
              "[1, 2, 3, 4, 5, 1, 2, 3, 4, 5]"
            ]
          },
          "metadata": {},
          "execution_count": 6
        }
      ]
    },
    {
      "cell_type": "code",
      "source": [
        "# The above operation in Numpy array can be done in python list by the following code\n",
        "List2 = []\n",
        "# for i in List:\n",
        "#   List2.append(i*2)\n",
        "# print(List2)\n",
        "List2 = [i + 3 for i in List] # List Comprehension\n",
        "print(List2)"
      ],
      "metadata": {
        "colab": {
          "base_uri": "https://localhost:8080/"
        },
        "id": "y-jxt981BJ6R",
        "outputId": "d243a485-8bb7-4c88-ee3b-f7184960bc33"
      },
      "execution_count": null,
      "outputs": [
        {
          "output_type": "stream",
          "name": "stdout",
          "text": [
            "[4, 5, 6, 7, 8]\n"
          ]
        }
      ]
    },
    {
      "cell_type": "code",
      "source": [
        "# For each entry in the NumpyList, square root is calculated\n",
        "np.sqrt(NumpyList)"
      ],
      "metadata": {
        "colab": {
          "base_uri": "https://localhost:8080/"
        },
        "id": "MjvBYc0yC7Z3",
        "outputId": "2c17682b-d5ba-4f78-d80d-3d668688e27d"
      },
      "execution_count": null,
      "outputs": [
        {
          "output_type": "execute_result",
          "data": {
            "text/plain": [
              "array([1.        , 1.41421356, 1.73205081, 2.        , 2.23606798,\n",
              "       2.44948974])"
            ]
          },
          "metadata": {},
          "execution_count": 8
        }
      ]
    },
    {
      "cell_type": "code",
      "source": [
        "# For each entry in the NumpyList, Logarithm is calculated\n",
        "np.log(NumpyList)"
      ],
      "metadata": {
        "colab": {
          "base_uri": "https://localhost:8080/"
        },
        "id": "uJrYgEt4EPzK",
        "outputId": "d6a218f9-d5cf-4e34-8025-28b7e0bbb76b"
      },
      "execution_count": null,
      "outputs": [
        {
          "output_type": "execute_result",
          "data": {
            "text/plain": [
              "array([0.        , 0.69314718, 1.09861229, 1.38629436, 1.60943791,\n",
              "       1.79175947])"
            ]
          },
          "metadata": {},
          "execution_count": 9
        }
      ]
    },
    {
      "cell_type": "code",
      "source": [
        "# For each entry in the NumpyList, Exponential is calculated\n",
        "np.exp(NumpyList)"
      ],
      "metadata": {
        "colab": {
          "base_uri": "https://localhost:8080/"
        },
        "id": "ZqevYqktET_K",
        "outputId": "5169ed46-0b59-496b-bf1f-d6ff145ca711"
      },
      "execution_count": null,
      "outputs": [
        {
          "output_type": "execute_result",
          "data": {
            "text/plain": [
              "array([  2.71828183,   7.3890561 ,  20.08553692,  54.59815003,\n",
              "       148.4131591 , 403.42879349])"
            ]
          },
          "metadata": {},
          "execution_count": 10
        }
      ]
    },
    {
      "cell_type": "code",
      "source": [
        "# For each entry in the NumpyList, Hyperbolic Tangent is calculated\n",
        "np.tanh(NumpyList)\n",
        "# And many more..."
      ],
      "metadata": {
        "colab": {
          "base_uri": "https://localhost:8080/"
        },
        "id": "ssPLANokEqkt",
        "outputId": "638b4ef7-01e7-4234-d722-07340aec56f8"
      },
      "execution_count": null,
      "outputs": [
        {
          "output_type": "execute_result",
          "data": {
            "text/plain": [
              "array([0.76159416, 0.96402758, 0.99505475, 0.9993293 , 0.9999092 ,\n",
              "       0.99998771])"
            ]
          },
          "metadata": {},
          "execution_count": 11
        }
      ]
    },
    {
      "cell_type": "markdown",
      "source": [
        "# DOT PRODUCT"
      ],
      "metadata": {
        "id": "eP40qMI-FY5O"
      }
    },
    {
      "cell_type": "code",
      "source": [
        "# Matrix Multiplication\n",
        "a = np.array([1, 2, 3])\n",
        "b = np.array([8, 9, 10])\n",
        "DotProduct = 0\n",
        "for i, j in zip(a, b):\n",
        "  DotProduct += i * j\n",
        "print(DotProduct)"
      ],
      "metadata": {
        "colab": {
          "base_uri": "https://localhost:8080/"
        },
        "id": "9mmhNsRmE50F",
        "outputId": "00db0b31-f986-4af4-dd2f-8b2dc4390a09"
      },
      "execution_count": null,
      "outputs": [
        {
          "output_type": "stream",
          "name": "stdout",
          "text": [
            "56\n"
          ]
        }
      ]
    },
    {
      "cell_type": "code",
      "source": [
        "# Performing Matrix multilplication with number of each element in the array\n",
        "DotProduct = 0\n",
        "for i in range(len(b)): # Both matrices have the same dimension\n",
        "  DotProduct += a[i] * b[i]\n",
        "print(DotProduct)"
      ],
      "metadata": {
        "colab": {
          "base_uri": "https://localhost:8080/"
        },
        "id": "D8Tsy7cPGl5f",
        "outputId": "a609da8f-452e-47eb-99e5-d4123e62f081"
      },
      "execution_count": null,
      "outputs": [
        {
          "output_type": "stream",
          "name": "stdout",
          "text": [
            "56\n"
          ]
        }
      ]
    },
    {
      "cell_type": "code",
      "source": [
        "x = a * b # element wise multiplication\n",
        "x"
      ],
      "metadata": {
        "id": "vjKu2E4gH2f4",
        "colab": {
          "base_uri": "https://localhost:8080/"
        },
        "outputId": "c66982fd-be6e-4170-c8be-c072ef57bec5"
      },
      "execution_count": null,
      "outputs": [
        {
          "output_type": "execute_result",
          "data": {
            "text/plain": [
              "array([ 8, 18, 30])"
            ]
          },
          "metadata": {},
          "execution_count": 16
        }
      ]
    },
    {
      "cell_type": "code",
      "source": [
        "# np.sum(x) -> DotProduct result\n",
        "x.sum() # Using instance methods"
      ],
      "metadata": {
        "colab": {
          "base_uri": "https://localhost:8080/"
        },
        "id": "3ovWtCCUIcQY",
        "outputId": "3c9fb8e8-4ace-45d9-b542-36631721e098"
      },
      "execution_count": null,
      "outputs": [
        {
          "output_type": "execute_result",
          "data": {
            "text/plain": [
              "56"
            ]
          },
          "metadata": {},
          "execution_count": 17
        }
      ]
    },
    {
      "cell_type": "code",
      "source": [
        "# np.dot(a, b) -> Using Functions\n",
        "a.dot(b) # Using instance methods"
      ],
      "metadata": {
        "colab": {
          "base_uri": "https://localhost:8080/"
        },
        "id": "Qg1wZB71IL8G",
        "outputId": "4751d8e3-0d9a-4ffe-bcec-af3433113180"
      },
      "execution_count": null,
      "outputs": [
        {
          "output_type": "execute_result",
          "data": {
            "text/plain": [
              "56"
            ]
          },
          "metadata": {},
          "execution_count": 18
        }
      ]
    },
    {
      "cell_type": "code",
      "source": [
        "# Using operator for getting the dot product (Note: both the vectors / Matrices must be of the same shape)\n",
        "a @ b"
      ],
      "metadata": {
        "colab": {
          "base_uri": "https://localhost:8080/"
        },
        "id": "yYNcOXhRI9_u",
        "outputId": "a5cfc7e7-428a-4c93-a222-07c1a1f5f416"
      },
      "execution_count": null,
      "outputs": [
        {
          "output_type": "execute_result",
          "data": {
            "text/plain": [
              "56"
            ]
          },
          "metadata": {},
          "execution_count": 19
        }
      ]
    },
    {
      "cell_type": "code",
      "source": [
        "# Determining magnitude of the vector / matrix {sqrt(a^2 + b^2 +....)} a\n",
        "Numbers = a ** 2\n",
        "s = Numbers.sum()\n",
        "sqrts = np.sqrt(s)\n",
        "sqrts\n",
        "# ~~~~~~~~~~~~~~~~~~~~~~~~~Alternate code~~~~~~~~~~~~~~~~~~~~~~~~~~~~~~~~\n",
        "# A_mag = np.sqrt((a * a).sum())\n",
        "# print(A_mag)"
      ],
      "metadata": {
        "colab": {
          "base_uri": "https://localhost:8080/"
        },
        "id": "BkqSBAynJmXj",
        "outputId": "111e30e5-3d9c-4be8-d160-db9af3fbde6d"
      },
      "execution_count": null,
      "outputs": [
        {
          "output_type": "execute_result",
          "data": {
            "text/plain": [
              "3.7416573867739413"
            ]
          },
          "metadata": {},
          "execution_count": 20
        }
      ]
    },
    {
      "cell_type": "code",
      "source": [
        "# Determining magnitude of the vector / matrix {sqrt(a^2 + b^2 +....)} b\n",
        "Numbers2 = b ** 2\n",
        "s2 = Numbers2.sum()\n",
        "sqrts2 = np.sqrt(s2)\n",
        "sqrts2\n",
        "# ~~~~~~~~~~~~~~~~~~~~~~~~~Alternate code~~~~~~~~~~~~~~~~~~~~~~~~~~~~~~~~\n",
        "# B_mag = np.sqrt((b * b).sum())\n",
        "# print(B_mag)"
      ],
      "metadata": {
        "colab": {
          "base_uri": "https://localhost:8080/"
        },
        "id": "htPAapXgL0nA",
        "outputId": "4a4f919e-ee43-46a7-d531-c8e111b98dbe"
      },
      "execution_count": null,
      "outputs": [
        {
          "output_type": "execute_result",
          "data": {
            "text/plain": [
              "15.652475842498529"
            ]
          },
          "metadata": {},
          "execution_count": 21
        }
      ]
    },
    {
      "cell_type": "code",
      "source": [
        "Denominator = sqrts * sqrts2\n",
        "CosTheta = DotProduct / Denominator\n",
        "print(CosTheta)"
      ],
      "metadata": {
        "colab": {
          "base_uri": "https://localhost:8080/"
        },
        "id": "a9PwWayuL_Dw",
        "outputId": "409b2216-1411-4e98-e3b5-2c24784bb585"
      },
      "execution_count": null,
      "outputs": [
        {
          "output_type": "stream",
          "name": "stdout",
          "text": [
            "0.9561828874675149\n"
          ]
        }
      ]
    },
    {
      "cell_type": "code",
      "source": [
        "# Using function to determine the magnitude of a vector\n",
        "np.linalg.norm(a)"
      ],
      "metadata": {
        "colab": {
          "base_uri": "https://localhost:8080/"
        },
        "id": "ejiYLrMtMyrK",
        "outputId": "e40b229c-bd77-4975-ecb7-354c335b5dd8"
      },
      "execution_count": null,
      "outputs": [
        {
          "output_type": "execute_result",
          "data": {
            "text/plain": [
              "3.7416573867739413"
            ]
          },
          "metadata": {},
          "execution_count": 23
        }
      ]
    },
    {
      "cell_type": "code",
      "source": [
        "# Alternate code for finding CosTheta\n",
        "CosTheta2 = DotProduct / (np.linalg.norm(a) * np.linalg.norm(b))\n",
        "CosTheta2"
      ],
      "metadata": {
        "colab": {
          "base_uri": "https://localhost:8080/"
        },
        "id": "XLPFYdz9OQ4k",
        "outputId": "9faff7c9-3362-4d53-b403-0835e0b8dc76"
      },
      "execution_count": null,
      "outputs": [
        {
          "output_type": "execute_result",
          "data": {
            "text/plain": [
              "0.9561828874675149"
            ]
          },
          "metadata": {},
          "execution_count": 24
        }
      ]
    },
    {
      "cell_type": "code",
      "source": [
        "# Finding the actual angle from the cosine angle\n",
        "angle = np.arccos(CosTheta2) # works with CosTheta as well\n",
        "angle # in radions"
      ],
      "metadata": {
        "colab": {
          "base_uri": "https://localhost:8080/"
        },
        "id": "YmeeMaK-PawT",
        "outputId": "d5f15169-8808-4ba0-8ef4-2e2af3d548f8"
      },
      "execution_count": null,
      "outputs": [
        {
          "output_type": "execute_result",
          "data": {
            "text/plain": [
              "0.2971225163471023"
            ]
          },
          "metadata": {},
          "execution_count": 25
        }
      ]
    },
    {
      "cell_type": "markdown",
      "source": [
        "# SPEED TEST"
      ],
      "metadata": {
        "id": "FQaOzyXdQUCX"
      }
    },
    {
      "cell_type": "code",
      "source": [
        "## speed comparison ##\n",
        "import numpy as np\n",
        "from datetime import datetime\n",
        "\n",
        "# note: you can also use %timeit\n",
        "\n",
        "a = np.random.randn(100)\n",
        "b = np.random.randn(100)\n",
        "T = 100000\n",
        "\n",
        "def slow_dot_product(a, b):\n",
        "  result = 0\n",
        "  for e, f in zip(a, b):\n",
        "    result += e*f\n",
        "  return result\n",
        "\n",
        "t0 = datetime.now()\n",
        "for t in range(T):\n",
        "  slow_dot_product(a, b)\n",
        "dt1 = datetime.now() - t0\n",
        "\n",
        "t0 = datetime.now()\n",
        "for t in range(T):\n",
        "  a.dot(b)\n",
        "dt2 = datetime.now() - t0\n",
        "\n",
        "print(\"dt1 / dt2:\", dt1.total_seconds() / dt2.total_seconds()) # shows which is faster"
      ],
      "metadata": {
        "colab": {
          "base_uri": "https://localhost:8080/"
        },
        "id": "Lb77TibiQXEO",
        "outputId": "45bec500-f840-4922-af0b-7abf7280a247"
      },
      "execution_count": null,
      "outputs": [
        {
          "output_type": "stream",
          "name": "stdout",
          "text": [
            "dt1 / dt2: 55.7691887675507\n"
          ]
        }
      ]
    },
    {
      "cell_type": "markdown",
      "source": [
        "# MATRICES"
      ],
      "metadata": {
        "id": "jyN5izNXlHUp"
      }
    },
    {
      "cell_type": "code",
      "source": [
        "# In numpy, there is a built-in object named matrix that is two dimensional. To process this matrix object, it must be converted to a numpy array.\n",
        "# Normal Matrices\n",
        "Matrix = [[1, 2], [3, 4]]\n",
        "Matrix[0] # -> Returns the first row"
      ],
      "metadata": {
        "colab": {
          "base_uri": "https://localhost:8080/"
        },
        "id": "JtKW9V2MlLH9",
        "outputId": "d8eccda9-8e65-4644-dfb4-40779345d424"
      },
      "execution_count": null,
      "outputs": [
        {
          "output_type": "execute_result",
          "data": {
            "text/plain": [
              "[1, 2]"
            ]
          },
          "metadata": {},
          "execution_count": 23
        }
      ]
    },
    {
      "cell_type": "code",
      "source": [
        "List[0][1] # -> returns the first element a11 (say for a matrix A)"
      ],
      "metadata": {
        "colab": {
          "base_uri": "https://localhost:8080/"
        },
        "id": "hcmKmu651IED",
        "outputId": "6b02dea7-3d36-41f6-d4f3-a0873f6014b9"
      },
      "execution_count": null,
      "outputs": [
        {
          "output_type": "execute_result",
          "data": {
            "text/plain": [
              "2"
            ]
          },
          "metadata": {},
          "execution_count": 4
        }
      ]
    },
    {
      "cell_type": "code",
      "source": [
        "# Numpy Matrices\n",
        "NumpyMatrix = np.array([[1, 2], [3, 4]])\n",
        "NumpyMatrix"
      ],
      "metadata": {
        "colab": {
          "base_uri": "https://localhost:8080/"
        },
        "id": "9s5Zf_s61TZ0",
        "outputId": "08575a2b-0bd5-4f16-92c5-b30cb20043cc"
      },
      "execution_count": null,
      "outputs": [
        {
          "output_type": "execute_result",
          "data": {
            "text/plain": [
              "array([[1, 2],\n",
              "       [3, 4]])"
            ]
          },
          "metadata": {},
          "execution_count": 17
        }
      ]
    },
    {
      "cell_type": "code",
      "source": [
        "# NumpyList[0][1]\n",
        "NumpyMatrix[0, 1]\n",
        "# Both produce the same results"
      ],
      "metadata": {
        "colab": {
          "base_uri": "https://localhost:8080/"
        },
        "id": "VsqqrOEb17Wj",
        "outputId": "5d821e82-58c8-401c-88fe-9e12866cb6eb"
      },
      "execution_count": null,
      "outputs": [
        {
          "output_type": "execute_result",
          "data": {
            "text/plain": [
              "2"
            ]
          },
          "metadata": {},
          "execution_count": 18
        }
      ]
    },
    {
      "cell_type": "code",
      "source": [
        "NumpyMatrix[:, 0] # -> Returns column at index 0"
      ],
      "metadata": {
        "colab": {
          "base_uri": "https://localhost:8080/"
        },
        "id": "F7GtCPWi2Kzk",
        "outputId": "8fda1e01-5161-4721-fc0a-639df3fdaf9f"
      },
      "execution_count": null,
      "outputs": [
        {
          "output_type": "execute_result",
          "data": {
            "text/plain": [
              "array([1, 3])"
            ]
          },
          "metadata": {},
          "execution_count": 19
        }
      ]
    },
    {
      "cell_type": "code",
      "source": [
        "NumpyMatrix[1, :] # -> Returns row at index 1"
      ],
      "metadata": {
        "colab": {
          "base_uri": "https://localhost:8080/"
        },
        "id": "p5zuBUFH2Y3R",
        "outputId": "d9f321b0-852c-45cc-d3db-df2bab4d86f5"
      },
      "execution_count": null,
      "outputs": [
        {
          "output_type": "execute_result",
          "data": {
            "text/plain": [
              "array([3, 4])"
            ]
          },
          "metadata": {},
          "execution_count": 20
        }
      ]
    },
    {
      "cell_type": "code",
      "source": [
        "NumpyMatrix.T # -> Returns transpose of the matrix"
      ],
      "metadata": {
        "colab": {
          "base_uri": "https://localhost:8080/"
        },
        "id": "zH4SqaTs2i7H",
        "outputId": "6661bf16-e001-4dda-e2be-acb8d3e57306"
      },
      "execution_count": null,
      "outputs": [
        {
          "output_type": "execute_result",
          "data": {
            "text/plain": [
              "array([[1, 3],\n",
              "       [2, 4]])"
            ]
          },
          "metadata": {},
          "execution_count": 21
        }
      ]
    },
    {
      "cell_type": "code",
      "source": [
        "np.exp(NumpyMatrix)"
      ],
      "metadata": {
        "colab": {
          "base_uri": "https://localhost:8080/"
        },
        "id": "qYYcZ6uk2soM",
        "outputId": "19d522cd-046e-4bb6-ce9e-410dae8e64c5"
      },
      "execution_count": null,
      "outputs": [
        {
          "output_type": "execute_result",
          "data": {
            "text/plain": [
              "array([[ 2.71828183,  7.3890561 ],\n",
              "       [20.08553692, 54.59815003]])"
            ]
          },
          "metadata": {},
          "execution_count": 22
        }
      ]
    },
    {
      "cell_type": "code",
      "source": [
        "np.exp(Matrix) # Numpy can work on python lists and return a numpy array"
      ],
      "metadata": {
        "colab": {
          "base_uri": "https://localhost:8080/"
        },
        "id": "XnAhPP5R268Q",
        "outputId": "dd045cae-ec00-4c76-909b-8d970c973d5b"
      },
      "execution_count": null,
      "outputs": [
        {
          "output_type": "execute_result",
          "data": {
            "text/plain": [
              "array([[ 2.71828183,  7.3890561 ],\n",
              "       [20.08553692, 54.59815003]])"
            ]
          },
          "metadata": {},
          "execution_count": 25
        }
      ]
    },
    {
      "cell_type": "code",
      "source": [
        "NumpyMatrix2 = np.array([[10, 20], [30, 56]]) # Shapes of Matrices should be same for Matrix Multiplication\n",
        "NumpyMatrix2"
      ],
      "metadata": {
        "colab": {
          "base_uri": "https://localhost:8080/"
        },
        "id": "hgP5rLrR3R0r",
        "outputId": "990f7e4d-44b8-4590-efdb-92d72b0c452f"
      },
      "execution_count": null,
      "outputs": [
        {
          "output_type": "execute_result",
          "data": {
            "text/plain": [
              "array([[10, 20],\n",
              "       [30, 56]])"
            ]
          },
          "metadata": {},
          "execution_count": 38
        }
      ]
    },
    {
      "cell_type": "code",
      "source": [
        "# Multiplying NumpyMatrix and NumpyMatrix2\n",
        "NumpyMatrix.dot(NumpyMatrix2)"
      ],
      "metadata": {
        "colab": {
          "base_uri": "https://localhost:8080/"
        },
        "id": "gDWZ7Sqh37me",
        "outputId": "f2773f57-d757-4bfd-8acf-5f9577f88746"
      },
      "execution_count": null,
      "outputs": [
        {
          "output_type": "execute_result",
          "data": {
            "text/plain": [
              "array([[ 70, 132],\n",
              "       [150, 284]])"
            ]
          },
          "metadata": {},
          "execution_count": 39
        }
      ]
    },
    {
      "cell_type": "code",
      "source": [
        "np.linalg.det(NumpyMatrix) # -> Returns the determinant of the Matrix"
      ],
      "metadata": {
        "colab": {
          "base_uri": "https://localhost:8080/"
        },
        "id": "cHzf4vyo4QJi",
        "outputId": "cc77be65-c1aa-480d-971b-b45ae84e06bb"
      },
      "execution_count": null,
      "outputs": [
        {
          "output_type": "execute_result",
          "data": {
            "text/plain": [
              "-2.0000000000000004"
            ]
          },
          "metadata": {},
          "execution_count": 40
        }
      ]
    },
    {
      "cell_type": "code",
      "source": [
        "np.linalg.inv(NumpyMatrix).dot(NumpyMatrix) # By multiplying the returned result by the initial matrix, we can see if it is inverse."
      ],
      "metadata": {
        "colab": {
          "base_uri": "https://localhost:8080/"
        },
        "id": "UJn3nRxV5IL6",
        "outputId": "3709389a-286c-4363-d952-26af57e99f9c"
      },
      "execution_count": null,
      "outputs": [
        {
          "output_type": "execute_result",
          "data": {
            "text/plain": [
              "array([[1.00000000e+00, 0.00000000e+00],\n",
              "       [1.11022302e-16, 1.00000000e+00]])"
            ]
          },
          "metadata": {},
          "execution_count": 41
        }
      ]
    },
    {
      "cell_type": "code",
      "source": [
        "np.trace(NumpyMatrix)"
      ],
      "metadata": {
        "colab": {
          "base_uri": "https://localhost:8080/"
        },
        "id": "V9JR-FZU5lpX",
        "outputId": "885afa27-acb8-4fad-fee2-dfba7e0837ed"
      },
      "execution_count": null,
      "outputs": [
        {
          "output_type": "execute_result",
          "data": {
            "text/plain": [
              "5"
            ]
          },
          "metadata": {},
          "execution_count": 42
        }
      ]
    },
    {
      "cell_type": "code",
      "source": [
        "# np.diag() is an overloaded function\n",
        "np.diag(NumpyMatrix) # -> Returns the diagonal elements of the matrix"
      ],
      "metadata": {
        "colab": {
          "base_uri": "https://localhost:8080/"
        },
        "id": "R2EYN6AC56vb",
        "outputId": "99ae149f-3138-46a6-f1a6-84753b1d8776"
      },
      "execution_count": null,
      "outputs": [
        {
          "output_type": "execute_result",
          "data": {
            "text/plain": [
              "array([1, 4])"
            ]
          },
          "metadata": {},
          "execution_count": 43
        }
      ]
    },
    {
      "cell_type": "code",
      "source": [
        "np.diag([1, 4]) # -> Returns a matrix with the vector elements forming the diagonal"
      ],
      "metadata": {
        "colab": {
          "base_uri": "https://localhost:8080/"
        },
        "id": "fAuW6SVH6IAD",
        "outputId": "d0e2534c-fcfe-449c-a4fb-07a16db0dfc9"
      },
      "execution_count": null,
      "outputs": [
        {
          "output_type": "execute_result",
          "data": {
            "text/plain": [
              "array([[1, 0],\n",
              "       [0, 4]])"
            ]
          },
          "metadata": {},
          "execution_count": 45
        }
      ]
    },
    {
      "cell_type": "code",
      "source": [
        "np.linalg.eig(NumpyMatrix) # -> Returns two array first one with eigen values and second one with eigen vectors"
      ],
      "metadata": {
        "colab": {
          "base_uri": "https://localhost:8080/"
        },
        "id": "70KPUYmp6eoN",
        "outputId": "a9cd625f-5f74-4a01-ff21-3f40bb7810a8"
      },
      "execution_count": null,
      "outputs": [
        {
          "output_type": "execute_result",
          "data": {
            "text/plain": [
              "(array([-0.37228132,  5.37228132]),\n",
              " array([[-0.82456484, -0.41597356],\n",
              "        [ 0.56576746, -0.90937671]]))"
            ]
          },
          "metadata": {},
          "execution_count": 46
        }
      ]
    },
    {
      "cell_type": "code",
      "source": [
        "EigenValue, EigenVector = np.linalg.eig(NumpyMatrix)\n",
        "EigenValue[0] * EigenVector[:, 0] == NumpyMatrix @ EigenVector[:, 0] # -> Compares vectors of size 2 Thus a vector of size 2 is returned"
      ],
      "metadata": {
        "colab": {
          "base_uri": "https://localhost:8080/"
        },
        "id": "g53EDFwn7PqD",
        "outputId": "bd4b9690-beb7-4721-e470-ddab677d0af7"
      },
      "execution_count": null,
      "outputs": [
        {
          "output_type": "execute_result",
          "data": {
            "text/plain": [
              "array([ True, False])"
            ]
          },
          "metadata": {},
          "execution_count": 52
        }
      ]
    },
    {
      "cell_type": "code",
      "source": [
        "EigenValue[0] * EigenVector[:, 0], NumpyMatrix @ EigenVector[:, 0]\n",
        "# The numbers appear to be the same as before, but the result on the right side is False because the computer does not have infinite memory to keep the elements as they are. They may be rounded off"
      ],
      "metadata": {
        "colab": {
          "base_uri": "https://localhost:8080/"
        },
        "id": "zGDWF3DH8r50",
        "outputId": "be80d521-67d5-4bcc-9329-2fe6cd656062"
      },
      "execution_count": null,
      "outputs": [
        {
          "output_type": "execute_result",
          "data": {
            "text/plain": [
              "(array([ 0.30697009, -0.21062466]), array([ 0.30697009, -0.21062466]))"
            ]
          },
          "metadata": {},
          "execution_count": 55
        }
      ]
    },
    {
      "cell_type": "code",
      "source": [
        "# To check if the two numpy arrays are equal we use allclose() function\n",
        "np.allclose(EigenVector[:, 0] * EigenValue[0], NumpyMatrix @ EigenVector[:, 0])"
      ],
      "metadata": {
        "colab": {
          "base_uri": "https://localhost:8080/"
        },
        "id": "qNLVZDf29ORs",
        "outputId": "8398e300-de91-4cf9-c6d4-cc2a18afb54c"
      },
      "execution_count": null,
      "outputs": [
        {
          "output_type": "execute_result",
          "data": {
            "text/plain": [
              "True"
            ]
          },
          "metadata": {},
          "execution_count": 60
        }
      ]
    },
    {
      "cell_type": "code",
      "source": [
        "# Checks are made for all the eigen vectors\n",
        "np.allclose(EigenVector @ np.diag(EigenValue), NumpyMatrix @ EigenVector)"
      ],
      "metadata": {
        "colab": {
          "base_uri": "https://localhost:8080/"
        },
        "id": "eX9Pei7x-OW-",
        "outputId": "46c5d366-856d-4f53-e501-2628ddee9447"
      },
      "execution_count": null,
      "outputs": [
        {
          "output_type": "execute_result",
          "data": {
            "text/plain": [
              "True"
            ]
          },
          "metadata": {},
          "execution_count": 66
        }
      ]
    },
    {
      "cell_type": "code",
      "source": [
        "# np.linalg.eigh() is used to return the eigen values and vectors for a real symmetric matrix\n",
        "# \"h\" in eigh -> is an abbreviation for complex analogue of matrix transpose. \"It requires the elements' transpose as well as their complex conjugate.\""
      ],
      "metadata": {
        "id": "UEP42ORY_ivG"
      },
      "execution_count": null,
      "outputs": []
    },
    {
      "cell_type": "code",
      "source": [
        "# Declaring a symmetric matrix\n",
        "A = np.array([[2, 3, 6], [3, 4, 5], [6, 5, 9]])\n",
        "A"
      ],
      "metadata": {
        "colab": {
          "base_uri": "https://localhost:8080/"
        },
        "id": "KPjpWVp2BEU1",
        "outputId": "abcd4c11-2474-4c7f-a591-ef337c35481d"
      },
      "execution_count": null,
      "outputs": [
        {
          "output_type": "execute_result",
          "data": {
            "text/plain": [
              "array([[2, 3, 6],\n",
              "       [3, 4, 5],\n",
              "       [6, 5, 9]])"
            ]
          },
          "metadata": {},
          "execution_count": 71
        }
      ]
    },
    {
      "cell_type": "code",
      "source": [
        "# Eigen values and vectors of a symmetric matrix\n",
        "np.linalg.eigh(A)"
      ],
      "metadata": {
        "colab": {
          "base_uri": "https://localhost:8080/"
        },
        "id": "djxNUOAVBlM5",
        "outputId": "a6478e59-3373-43ff-b14d-c6fc6a3f0f71"
      },
      "execution_count": null,
      "outputs": [
        {
          "output_type": "execute_result",
          "data": {
            "text/plain": [
              "(array([-1.45033183,  1.02829753, 15.42203429]),\n",
              " array([[-0.87416716,  0.19165551, -0.44620617],\n",
              "        [ 0.03695488, -0.88991075, -0.45463523],\n",
              "        [ 0.48421702,  0.41391669, -0.77084814]]))"
            ]
          },
          "metadata": {},
          "execution_count": 74
        }
      ]
    }
  ]
}